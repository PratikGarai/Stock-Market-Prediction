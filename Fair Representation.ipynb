{
 "cells": [
  {
   "cell_type": "code",
   "execution_count": 1,
   "metadata": {},
   "outputs": [],
   "source": [
    "stock_ = 'TATASTEEL'"
   ]
  },
  {
   "cell_type": "code",
   "execution_count": 2,
   "metadata": {},
   "outputs": [],
   "source": [
    "from nsepy import get_history as gh\n",
    "import datetime as dt\n",
    "from matplotlib import pyplot as plt\n",
    "from sklearn import model_selection\n",
    "from sklearn.metrics import confusion_matrix\n",
    "from sklearn.preprocessing import StandardScaler\n",
    "from sklearn.model_selection import train_test_split\n",
    "import numpy as np\n",
    "import pandas as pd\n",
    "from sklearn.preprocessing import MinMaxScaler\n",
    "import keras\n",
    "from keras.models import Sequential\n",
    "from keras.layers import Dense\n",
    "from keras.layers import LSTM\n",
    "from keras.layers import Dropout"
   ]
  },
  {
   "cell_type": "code",
   "execution_count": 47,
   "metadata": {},
   "outputs": [],
   "source": [
    "def get_regressor(stk_data, start, end, lim):\n",
    "    stk_data['Date'] = stk_data.index\n",
    "    data2 = pd.DataFrame(columns = ['Date', 'Open', 'High', 'Low', 'Close'])\n",
    "    data2['Date'] = stk_data['Date']\n",
    "    data2['Open'] = stk_data['Open']\n",
    "    data2['High'] = stk_data['High']\n",
    "    data2['Low'] = stk_data['Low']\n",
    "    data2['Close'] = stk_data['Close']\n",
    "    \n",
    "    train_set = data2.iloc[:, 1:2].values\n",
    "    sc = MinMaxScaler(feature_range = (0, 1))\n",
    "    training_set_scaled = sc.fit_transform(train_set)\n",
    "    X_train = []\n",
    "    y_train = []\n",
    "    for i in range(60, lim):\n",
    "        X_train.append(training_set_scaled[i-60:i, 0])\n",
    "        y_train.append(training_set_scaled[i, 0]) \n",
    "    X_train, y_train = np.array(X_train), np.array(y_train)\n",
    "    X_train = np.reshape(X_train, (X_train.shape[0], X_train.shape[1], 1))\n",
    "    \n",
    "    regressor = Sequential()\n",
    "    regressor.add(LSTM(units = 50, return_sequences = True, input_shape = (X_train.shape[1], 1)))\n",
    "    regressor.add(Dropout(0.2))\n",
    "    regressor.add(LSTM(units = 50, return_sequences = True))\n",
    "    regressor.add(Dropout(0.2))\n",
    "    regressor.add(LSTM(units = 50, return_sequences = True))\n",
    "    regressor.add(Dropout(0.2))\n",
    "    regressor.add(LSTM(units = 50))\n",
    "    regressor.add(Dropout(0.2))\n",
    "    regressor.add(Dense(units = 1))\n",
    "    \n",
    "    regressor.compile(optimizer = 'adam', loss = 'mean_squared_error')\n",
    "    regressor.fit(X_train, y_train, epochs = 1, batch_size = 32, validation_split=0.2)\n",
    "    \n",
    "    return (regressor, data2, sc)"
   ]
  },
  {
   "cell_type": "code",
   "execution_count": 66,
   "metadata": {},
   "outputs": [],
   "source": [
    "def comparison(start, end, lim, regressor, heading, data2, sc):\n",
    "    testdataframe= gh(symbol=stock_,start=dt.datetime(2020,1,1),end=dt.datetime(2020,8,31))\n",
    "    testdataframe['Date'] = testdataframe.index\n",
    "    testdata = pd.DataFrame(columns = ['Date', 'Open', 'High', 'Low', 'Close'])\n",
    "    testdata['Date'] = testdataframe['Date']\n",
    "    testdata['Open'] = testdataframe['Open']\n",
    "    testdata['High'] = testdataframe['High']\n",
    "    testdata['Low'] = testdataframe['Low']\n",
    "    testdata['Close'] = testdataframe['Close']\n",
    "    real_stock_price = testdata.iloc[:, 1:2].values\n",
    "    dataset_total = pd.concat((data2['Open'], testdata['Open']), axis = 0)\n",
    "    inputs = dataset_total[len(dataset_total) - len(testdata) - 60:].values\n",
    "    inputs = inputs.reshape(-1,1)\n",
    "    inputs = sc.transform(inputs)\n",
    "    X_test = []\n",
    "    #upper limit is number of days - 25\n",
    "    for i in range(60, lim):\n",
    "        X_test.append(inputs[i-60:i, 0])\n",
    "    X_test = np.asarray(X_test).astype(np.float32)\n",
    "    print(X_test.shape)\n",
    "    X_test = np.reshape(X_test, (X_test.shape[0], -1, 1))\n",
    "    predicted_stock_price = regressor.predict(X_test)\n",
    "    predicted_stock_price = sc.inverse_transform(predicted_stock_price)\n",
    "    plt.figure(figsize=(20,5))\n",
    "    print(heading)\n",
    "    plt.plot(real_stock_price, color = 'green', label = '{} Stock Price'.format(stock_))\n",
    "    plt.plot(predicted_stock_price, color = 'red', label = 'Predicted {} Stock Price'.format(stock_))\n",
    "    plt.title('{} Stock Price Prediction'.format(stock_))\n",
    "    plt.xlabel('Trading Day')\n",
    "    plt.ylabel('{} Stock Price'.format(stock_))\n",
    "    plt.legend()\n",
    "    plt.show()"
   ]
  },
  {
   "cell_type": "code",
   "execution_count": 67,
   "metadata": {},
   "outputs": [
    {
     "name": "stdout",
     "output_type": "stream",
     "text": [
      "32/32 [==============================] - 10s 307ms/step - loss: 0.0446 - val_loss: 0.0057\n"
     ]
    },
    {
     "ename": "ValueError",
     "evalue": "setting an array element with a sequence.",
     "output_type": "error",
     "traceback": [
      "\u001b[1;31m---------------------------------------------------------------------------\u001b[0m",
      "\u001b[1;31mTypeError\u001b[0m                                 Traceback (most recent call last)",
      "\u001b[1;31mTypeError\u001b[0m: only size-1 arrays can be converted to Python scalars",
      "\nThe above exception was the direct cause of the following exception:\n",
      "\u001b[1;31mValueError\u001b[0m                                Traceback (most recent call last)",
      "\u001b[1;32m<ipython-input-67-6ec9f47f285c>\u001b[0m in \u001b[0;36m<module>\u001b[1;34m\u001b[0m\n\u001b[0;32m     16\u001b[0m     \u001b[0mcomparison\u001b[0m\u001b[1;33m(\u001b[0m\u001b[0mstart_post\u001b[0m\u001b[1;33m,\u001b[0m\u001b[0mend_post\u001b[0m\u001b[1;33m,\u001b[0m \u001b[0mpost_lim\u001b[0m\u001b[1;33m,\u001b[0m \u001b[0mreg1\u001b[0m\u001b[1;33m[\u001b[0m\u001b[1;36m0\u001b[0m\u001b[1;33m]\u001b[0m\u001b[1;33m,\u001b[0m \u001b[1;34m\"Corona untrained on full\"\u001b[0m\u001b[1;33m,\u001b[0m \u001b[0mreg1\u001b[0m\u001b[1;33m[\u001b[0m\u001b[1;36m1\u001b[0m\u001b[1;33m]\u001b[0m\u001b[1;33m,\u001b[0m \u001b[0mreg1\u001b[0m\u001b[1;33m[\u001b[0m\u001b[1;36m2\u001b[0m\u001b[1;33m]\u001b[0m\u001b[1;33m)\u001b[0m\u001b[1;33m\u001b[0m\u001b[1;33m\u001b[0m\u001b[0m\n\u001b[0;32m     17\u001b[0m     \u001b[0mcomparison\u001b[0m\u001b[1;33m(\u001b[0m\u001b[1;33m)\u001b[0m\u001b[1;33m\u001b[0m\u001b[1;33m\u001b[0m\u001b[0m\n\u001b[1;32m---> 18\u001b[1;33m \u001b[0mtrainer\u001b[0m\u001b[1;33m(\u001b[0m\u001b[1;33m)\u001b[0m\u001b[1;33m\u001b[0m\u001b[1;33m\u001b[0m\u001b[0m\n\u001b[0m",
      "\u001b[1;32m<ipython-input-67-6ec9f47f285c>\u001b[0m in \u001b[0;36mtrainer\u001b[1;34m()\u001b[0m\n\u001b[0;32m     14\u001b[0m \u001b[1;33m\u001b[0m\u001b[0m\n\u001b[0;32m     15\u001b[0m     \u001b[1;31m#comparison(start_post,end_post, post_lim, reg2, \"Corona trained on full\", reg1[1])\u001b[0m\u001b[1;33m\u001b[0m\u001b[1;33m\u001b[0m\u001b[1;33m\u001b[0m\u001b[0m\n\u001b[1;32m---> 16\u001b[1;33m     \u001b[0mcomparison\u001b[0m\u001b[1;33m(\u001b[0m\u001b[0mstart_post\u001b[0m\u001b[1;33m,\u001b[0m\u001b[0mend_post\u001b[0m\u001b[1;33m,\u001b[0m \u001b[0mpost_lim\u001b[0m\u001b[1;33m,\u001b[0m \u001b[0mreg1\u001b[0m\u001b[1;33m[\u001b[0m\u001b[1;36m0\u001b[0m\u001b[1;33m]\u001b[0m\u001b[1;33m,\u001b[0m \u001b[1;34m\"Corona untrained on full\"\u001b[0m\u001b[1;33m,\u001b[0m \u001b[0mreg1\u001b[0m\u001b[1;33m[\u001b[0m\u001b[1;36m1\u001b[0m\u001b[1;33m]\u001b[0m\u001b[1;33m,\u001b[0m \u001b[0mreg1\u001b[0m\u001b[1;33m[\u001b[0m\u001b[1;36m2\u001b[0m\u001b[1;33m]\u001b[0m\u001b[1;33m)\u001b[0m\u001b[1;33m\u001b[0m\u001b[1;33m\u001b[0m\u001b[0m\n\u001b[0m\u001b[0;32m     17\u001b[0m     \u001b[0mcomparison\u001b[0m\u001b[1;33m(\u001b[0m\u001b[1;33m)\u001b[0m\u001b[1;33m\u001b[0m\u001b[1;33m\u001b[0m\u001b[0m\n\u001b[0;32m     18\u001b[0m \u001b[0mtrainer\u001b[0m\u001b[1;33m(\u001b[0m\u001b[1;33m)\u001b[0m\u001b[1;33m\u001b[0m\u001b[1;33m\u001b[0m\u001b[0m\n",
      "\u001b[1;32m<ipython-input-66-2008a7624c25>\u001b[0m in \u001b[0;36mcomparison\u001b[1;34m(start, end, lim, regressor, heading, data2, sc)\u001b[0m\n\u001b[0;32m     17\u001b[0m     \u001b[1;32mfor\u001b[0m \u001b[0mi\u001b[0m \u001b[1;32min\u001b[0m \u001b[0mrange\u001b[0m\u001b[1;33m(\u001b[0m\u001b[1;36m60\u001b[0m\u001b[1;33m,\u001b[0m \u001b[0mlim\u001b[0m\u001b[1;33m)\u001b[0m\u001b[1;33m:\u001b[0m\u001b[1;33m\u001b[0m\u001b[1;33m\u001b[0m\u001b[0m\n\u001b[0;32m     18\u001b[0m         \u001b[0mX_test\u001b[0m\u001b[1;33m.\u001b[0m\u001b[0mappend\u001b[0m\u001b[1;33m(\u001b[0m\u001b[0minputs\u001b[0m\u001b[1;33m[\u001b[0m\u001b[0mi\u001b[0m\u001b[1;33m-\u001b[0m\u001b[1;36m60\u001b[0m\u001b[1;33m:\u001b[0m\u001b[0mi\u001b[0m\u001b[1;33m,\u001b[0m \u001b[1;36m0\u001b[0m\u001b[1;33m]\u001b[0m\u001b[1;33m)\u001b[0m\u001b[1;33m\u001b[0m\u001b[1;33m\u001b[0m\u001b[0m\n\u001b[1;32m---> 19\u001b[1;33m     \u001b[0mX_test\u001b[0m \u001b[1;33m=\u001b[0m \u001b[0mnp\u001b[0m\u001b[1;33m.\u001b[0m\u001b[0masarray\u001b[0m\u001b[1;33m(\u001b[0m\u001b[0mX_test\u001b[0m\u001b[1;33m)\u001b[0m\u001b[1;33m.\u001b[0m\u001b[0mastype\u001b[0m\u001b[1;33m(\u001b[0m\u001b[0mnp\u001b[0m\u001b[1;33m.\u001b[0m\u001b[0mfloat32\u001b[0m\u001b[1;33m)\u001b[0m\u001b[1;33m\u001b[0m\u001b[1;33m\u001b[0m\u001b[0m\n\u001b[0m\u001b[0;32m     20\u001b[0m     \u001b[0mprint\u001b[0m\u001b[1;33m(\u001b[0m\u001b[0mX_test\u001b[0m\u001b[1;33m.\u001b[0m\u001b[0mshape\u001b[0m\u001b[1;33m)\u001b[0m\u001b[1;33m\u001b[0m\u001b[1;33m\u001b[0m\u001b[0m\n\u001b[0;32m     21\u001b[0m     \u001b[0mX_test\u001b[0m \u001b[1;33m=\u001b[0m \u001b[0mnp\u001b[0m\u001b[1;33m.\u001b[0m\u001b[0mreshape\u001b[0m\u001b[1;33m(\u001b[0m\u001b[0mX_test\u001b[0m\u001b[1;33m,\u001b[0m \u001b[1;33m(\u001b[0m\u001b[0mX_test\u001b[0m\u001b[1;33m.\u001b[0m\u001b[0mshape\u001b[0m\u001b[1;33m[\u001b[0m\u001b[1;36m0\u001b[0m\u001b[1;33m]\u001b[0m\u001b[1;33m,\u001b[0m \u001b[1;33m-\u001b[0m\u001b[1;36m1\u001b[0m\u001b[1;33m,\u001b[0m \u001b[1;36m1\u001b[0m\u001b[1;33m)\u001b[0m\u001b[1;33m)\u001b[0m\u001b[1;33m\u001b[0m\u001b[1;33m\u001b[0m\u001b[0m\n",
      "\u001b[1;31mValueError\u001b[0m: setting an array element with a sequence."
     ]
    }
   ],
   "source": [
    "def trainer():\n",
    "    start_pre = dt.datetime(2014,1,1)\n",
    "    end_pre = dt.datetime(2019,6,1)\n",
    "    stk_data_pre = gh(symbol=stock_,start=start_pre,end=end_pre)\n",
    "    pre_lim = 1335\n",
    "    reg1 = get_regressor(stk_data_pre, start_pre, end_pre, pre_lim)\n",
    "    \n",
    "    start_post = dt.datetime(2014,1,1)\n",
    "    end_post = dt.datetime(2020,8,1)\n",
    "    stk_data_post = gh(symbol=stock_,start=start_post,end=end_post)\n",
    "    post_lim = 1623\n",
    "    #reg2 = get_regressor(stk_data_post, start_post, end_post, post_lim)[0]\n",
    "    reg2 = None\n",
    "    \n",
    "    #comparison(start_post,end_post, post_lim, reg2, \"Corona trained on full\", reg1[1])\n",
    "    comparison(start_post,end_post, post_lim, reg1[0], \"Corona untrained on full\", reg1[1], reg1[2])\n",
    "    comparison()\n",
    "trainer()"
   ]
  },
  {
   "cell_type": "code",
   "execution_count": null,
   "metadata": {},
   "outputs": [],
   "source": []
  }
 ],
 "metadata": {
  "kernelspec": {
   "display_name": "Python 3",
   "language": "python",
   "name": "python3"
  },
  "language_info": {
   "codemirror_mode": {
    "name": "ipython",
    "version": 3
   },
   "file_extension": ".py",
   "mimetype": "text/x-python",
   "name": "python",
   "nbconvert_exporter": "python",
   "pygments_lexer": "ipython3",
   "version": "3.8.5"
  }
 },
 "nbformat": 4,
 "nbformat_minor": 4
}
